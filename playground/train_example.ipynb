{
 "cells": [
  {
   "cell_type": "code",
   "execution_count": null,
   "metadata": {},
   "outputs": [
    {
     "ename": "",
     "evalue": "",
     "output_type": "error",
     "traceback": [
      "\u001b[1;31mFailed to start the Kernel. \n",
      "Kernel AutoVC3-env (Python 3.8.9) is not usable. Check the Jupyter output tab for more information. \n",
      "View Jupyter <a href='command:jupyter.viewOutput'>log</a> for further details."
     ]
    }
   ],
   "source": [
    "from autovc.utils.dataloader import TrainDataLoader\n",
    "from autovc.utils.model_loader import load_models\n",
    "# from autovc.auto_encoder.model_vc import Generator\n",
    "# from autovc.speaker_encoder.model import SpeakerEncoder\n",
    "\n",
    "# \n",
    "\n",
    "\n",
    "# model = Generator()\n",
    "# model.load_model('models/AutoVC/AutoVC_SMK.pt', device = 'cpu')\n",
    "\n",
    "# speaker_encoder = SpeakerEncoder()\n",
    "# speaker_encoder.load_model('models/SpeakerEncoder/SpeakerEncoder.pt')\n",
    "\n",
    "model, speaker_encoder = load_models(\n",
    "    model_types= [\"auto_encoder\", \"speaker_encoder\"],\n",
    "    model_paths= ['models/AutoVC/AutoVC_SMK.pt', 'models/SpeakerEncoder/SpeakerEncoder.pt']\n",
    ")\n",
    "\n",
    "dataset = TrainDataLoader(data_dir_path = 'data/samples', speaker_encoder = speaker_encoder)\n",
    "dataloader = dataset.get_dataloader(batch_size = 2, shuffle = True)\n",
    "\n",
    "model.learn(dataloader, n_epochs = 2)\n"
   ]
  },
  {
   "cell_type": "code",
   "execution_count": null,
   "metadata": {},
   "outputs": [],
   "source": [
    "from autovc.speaker_encoder.model import SpeakerEncoder\n",
    "from autovc.speaker_encoder.utils import wav_to_mel_spectrogram, preprocess_wav\n",
    "import torch\n",
    "speaker_encoder = SpeakerEncoder()\n",
    "speaker_encoder.load_model('Models/SpeakerEncoder/SpeakerEncoder.pt')\n",
    "mels = [speaker_encoder(torch.from_numpy(wav_to_mel_spectrogram(preprocess_wav(wav))).unsqueeze(0)) for wav in [\"data/samples/chooped7.wav\", \"data/samples/mette_183.wav\"]]\n"
   ]
  },
  {
   "cell_type": "code",
   "execution_count": null,
   "metadata": {},
   "outputs": [],
   "source": [
    "speaker_encoder.loss(torch.stack(mels))\n"
   ]
  },
  {
   "cell_type": "code",
   "execution_count": null,
   "metadata": {},
   "outputs": [],
   "source": [
    "from autovc.utils.audio import get_mel_frames, audio_to_melspectrogram\n",
    "import torch\n",
    "import numpy as np\n",
    "import matplotlib.pyplot as plt\n",
    "from autovc.utils.model_loader import load_model\n",
    "from torch.nn.functional import pad\n",
    "import soundfile as sf\n",
    "from autovc.utils.audio import remove_noise\n",
    "AE = load_model('auto_encoder', 'models/AutoVC/AutoVC_SMK.pt')\n",
    "SE = load_model('speaker_encoder', 'models/SpeakerEncoder/SpeakerEncoder.pt')\n",
    "vocoder = load_model('vocoder', 'models/WaveRNN/WaveRNN_Pretrained.pyt')\n",
    "N = 1000\n",
    "source = 'data/samples/hilde_301.wav'\n",
    "target = 'data/samples/HaegueYang_5.wav'\n",
    "min_pad_coverage = 0.1\n",
    "overlap = 0.5\n",
    "frames = get_mel_frames(source,\n",
    "                        audio_to_melspectrogram, \n",
    "                        sr = 22050, \n",
    "                        mel_window_step             = 12.5, \n",
    "                        order                       = 'MF', \n",
    "                        partial_utterance_n_frames  = N, \n",
    "                        min_pad_coverage            = min_pad_coverage, \n",
    "                        overlap                     = overlap,\n",
    "                        )\n",
    "\n",
    "X = torch.stack(frames)\n",
    "c_source = SE.embed_utterance(source).unsqueeze(0).expand(X.size(0),-1)\n",
    "c_target = SE.embed_utterance(target).unsqueeze(0).expand(X.size(0),-1)\n",
    "\n",
    "\n",
    "out, post_out, content_codes = AE(X, c_source, c_target)\n"
   ]
  },
  {
   "cell_type": "code",
   "execution_count": null,
   "metadata": {},
   "outputs": [],
   "source": [
    "\n",
    "frames = list(post_out)\n",
    "M = len(frames)\n",
    "T = int(N * (1-overlap))\n",
    "for i in range(M):\n",
    "    frames[i] = pad(frames[i], (i * T, (M-i-1) * T) , mode = 'constant', value = torch.nan)\n",
    "\n",
    "X = torch.stack(frames)\n",
    "X_paste = X.nanmean(axis = 0)\n",
    "X_paste.shape"
   ]
  },
  {
   "cell_type": "code",
   "execution_count": null,
   "metadata": {},
   "outputs": [],
   "source": [
    "waveform = vocoder.generate(X_paste.unsqueeze(0))"
   ]
  },
  {
   "cell_type": "code",
   "execution_count": null,
   "metadata": {},
   "outputs": [],
   "source": [
    "\n",
    "wave = np.asarray(waveform)\n",
    "wave = remove_noise(wave, 22050)\n",
    "sf.write('chop_and_past_00p_overlap.wav', wave, samplerate =22050)"
   ]
  },
  {
   "cell_type": "code",
   "execution_count": null,
   "metadata": {},
   "outputs": [],
   "source": [
    "SE.state_dict()['test'] = 2\n",
    "\n",
    "torch.save( {'step':0, 'model_state': SE.state_dict(), 'speakers':{'hilde' : torch.randn((1,256)), 'yang':torch.randn((1,256))}}, 'models/SpeakerEncoder/SpeakerEncoder2.pt')"
   ]
  },
  {
   "cell_type": "code",
   "execution_count": null,
   "metadata": {},
   "outputs": [],
   "source": [
    "import wandb\n",
    "run = wandb.init()\n",
    "artifact = run.use_artifact('deep_voice_inc/SpeakerEncoder2/model_20220117.pt:v47', type='SpeakerEncoder')\n",
    "artifact_dir = artifact.download()\n"
   ]
  },
  {
   "cell_type": "code",
   "execution_count": null,
   "metadata": {},
   "outputs": [],
   "source": [
    "\n",
    "from autovc.utils.model_loader import load_model\n",
    "\n",
    "SE = load_model('speaker_encoder', 'artifacts/speaker1/model_20220117.pt')"
   ]
  },
  {
   "cell_type": "code",
   "execution_count": null,
   "metadata": {},
   "outputs": [],
   "source": [
    "SE.learn_speaker('hilde')"
   ]
  }
 ],
 "metadata": {
  "interpreter": {
   "hash": "54e0da04e6ae9c20ca2f4c1b875d1df5d1285f4ba0e46b27cfcdd998c27a32e0"
  },
  "kernelspec": {
   "display_name": "Python 3",
   "language": "python",
   "name": "python3"
  },
  "language_info": {
   "codemirror_mode": {
    "name": "ipython",
    "version": 3
   },
   "file_extension": ".py",
   "mimetype": "text/x-python",
   "name": "python",
   "nbconvert_exporter": "python",
   "pygments_lexer": "ipython3",
   "version": "3.8.9"
  },
  "orig_nbformat": 4
 },
 "nbformat": 4,
 "nbformat_minor": 2
}
