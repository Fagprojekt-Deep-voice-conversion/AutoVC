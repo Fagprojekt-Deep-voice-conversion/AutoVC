{
 "cells": [
  {
   "cell_type": "code",
   "execution_count": 16,
   "metadata": {},
   "outputs": [],
   "source": [
    "from autovc.utils.dataloader import AutoEncoderDataset, SpeakerEncoderDataset\n",
    "from autovc.models import SpeakerEncoder, AutoEncoder\n",
    "from autovc.audio.spectrogram import mel_spec_auto_encoder, mel_spec_speaker_encoder\n",
    "import inspect\n",
    "from torch.utils.data import DataLoader\n",
    "import torch"
   ]
  },
  {
   "cell_type": "markdown",
   "metadata": {},
   "source": [
    "## AutoEncoder"
   ]
  },
  {
   "cell_type": "code",
   "execution_count": 18,
   "metadata": {},
   "outputs": [],
   "source": [
    "AutoEncoderDataset.__annotations__ = {\n",
    "    \"args\" : inspect.getfullargspec(AutoEncoderDataset.__init__).args,\n",
    "    \"kwargs\" : inspect.getfullargspec(mel_spec_auto_encoder).args\n",
    "}\n",
    "\n",
    "AutoEncoderDataset.get_dataloader.__annotations__ = {\n",
    "    \"args\" : inspect.getfullargspec(AutoEncoderDataset.get_dataloader).args,\n",
    "    \"kwargs\" : inspect.getfullargspec(DataLoader.__init__).args\n",
    "}\n",
    "\n",
    "AutoEncoder.learn.__annotations__ = {\n",
    "    \"args\" : inspect.getfullargspec(AutoEncoder.learn).args,\n",
    "    \"kwargs\" : inspect.getfullargspec(torch.optim.Adam).args\n",
    "}\n",
    "\n",
    "dataset_args = list(set(AutoEncoderDataset.__annotations__[\"args\"]).union(set(AutoEncoderDataset.__annotations__[\"kwargs\"])))\n",
    "dataloader_args = list(set(AutoEncoderDataset.get_dataloader.__annotations__[\"args\"]).union(set(AutoEncoderDataset.get_dataloader.__annotations__[\"kwargs\"])))\n",
    "learn_args = list(set(AutoEncoder.learn.__annotations__[\"args\"]).union(set(AutoEncoder.learn.__annotations__[\"kwargs\"])))"
   ]
  },
  {
   "cell_type": "code",
   "execution_count": 22,
   "metadata": {},
   "outputs": [
    {
     "name": "stdout",
     "output_type": "stream",
     "text": [
      "['data_path_excluded', 'self', 'sr', 'n_mels', 'fmin', 'window_length', 'speakers', 'cut', 'data_path', 'wav', 'n_fft', 'hop_length', 'speaker_encoder']\n",
      "['self', 'drop_last', 'shuffle', 'pin_memory', 'sampler', 'timeout', 'batch_sampler', 'dataset', 'batch_size', 'generator', 'worker_init_fn', 'num_workers', 'collate_fn', 'multiprocessing_context']\n",
      "['amsgrad', 'self', 'trainloader', 'n_epochs', 'log_freq', 'betas', 'example_freq', 'wandb_run', 'save_freq', 'ema_decay', 'params', 'eps', 'save_dir', 'weight_decay', 'model_name', 'lr']\n",
      "{'self'}\n"
     ]
    }
   ],
   "source": [
    "print(dataset_args)\n",
    "print(dataloader_args)\n",
    "print(learn_args)\n",
    "\n",
    "\n",
    "print(set(dataset_args).intersection(set(dataloader_args)).intersection(set(learn_args)))"
   ]
  },
  {
   "cell_type": "markdown",
   "metadata": {},
   "source": [
    "## Speaker encoder"
   ]
  },
  {
   "cell_type": "code",
   "execution_count": 20,
   "metadata": {},
   "outputs": [
    {
     "data": {
      "text/plain": [
       "{'args': ['self',\n",
       "  'trainloader',\n",
       "  'n_epochs',\n",
       "  'log_freq',\n",
       "  'save_freq',\n",
       "  'save_dir',\n",
       "  'model_name',\n",
       "  'example_freq',\n",
       "  'ema_decay',\n",
       "  'wandb_run'],\n",
       " 'kwargs': ['self', 'params', 'lr', 'betas', 'eps', 'weight_decay', 'amsgrad']}"
      ]
     },
     "execution_count": 20,
     "metadata": {},
     "output_type": "execute_result"
    }
   ],
   "source": [
    "SpeakerEncoderDataset.__annotations__ = {\n",
    "    \"args\" : inspect.getfullargspec(SpeakerEncoderDataset.__init__).args,\n",
    "    \"kwargs\" : inspect.getfullargspec(mel_spec_auto_encoder).args\n",
    "}\n",
    "\n",
    "SpeakerEncoderDataset.get_dataloader.__annotations__ = {\n",
    "    \"args\" : inspect.getfullargspec(SpeakerEncoderDataset.get_dataloader).args,\n",
    "    \"kwargs\" : inspect.getfullargspec(DataLoader.__init__).args\n",
    "}\n",
    "\n",
    "AutoEncoder.learn.__annotations__ = {\n",
    "    \"args\" : inspect.getfullargspec(AutoEncoder.learn).args,\n",
    "    \"kwargs\" : inspect.getfullargspec(torch.optim.Adam).args\n",
    "}\n",
    "\n",
    "dataset_args = list(set(AutoEncoderDataset.__annotations__[\"args\"]).union(set(AutoEncoderDataset.__annotations__[\"kwargs\"])))\n",
    "dataloader_args = list(set(AutoEncoderDataset.get_dataloader.__annotations__[\"args\"]).union(set(AutoEncoderDataset.get_dataloader.__annotations__[\"kwargs\"])))\n",
    "learn_args = list(set(AutoEncoder.learn.__annotations__[\"args\"]).union(set(AutoEncoder.learn.__annotations__[\"kwargs\"])))"
   ]
  },
  {
   "cell_type": "code",
   "execution_count": null,
   "metadata": {},
   "outputs": [],
   "source": [
    "print(dataset_args)\n",
    "print(dataloader_args)\n",
    "print(learn_args)\n",
    "\n",
    "\n",
    "print(set(dataset_args).intersection(set(dataloader_args)).intersection(set(learn_args)))"
   ]
  }
 ],
 "metadata": {
  "interpreter": {
   "hash": "11cb5a456d4a653d33a498ed2fcd4b58cbc5633918b130301f7222223ab9e021"
  },
  "kernelspec": {
   "display_name": "Python 3.8.12 64-bit ('AutoVC-env': conda)",
   "language": "python",
   "name": "python3"
  },
  "language_info": {
   "codemirror_mode": {
    "name": "ipython",
    "version": 3
   },
   "file_extension": ".py",
   "mimetype": "text/x-python",
   "name": "python",
   "nbconvert_exporter": "python",
   "pygments_lexer": "ipython3",
   "version": "3.8.12"
  },
  "orig_nbformat": 4
 },
 "nbformat": 4,
 "nbformat_minor": 2
}
