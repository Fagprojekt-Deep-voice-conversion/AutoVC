{
 "cells": [
  {
   "cell_type": "code",
   "execution_count": 2,
   "metadata": {},
   "outputs": [],
   "source": [
    "import autovc"
   ]
  },
  {
   "cell_type": "markdown",
   "metadata": {},
   "source": [
    "## Create SMK audio file\n",
    "\n"
   ]
  },
  {
   "cell_type": "code",
   "execution_count": 7,
   "metadata": {},
   "outputs": [],
   "source": [
    "from autovc.audio.tools import combine_audio\n",
    "from autovc import Audio\n",
    "\n",
    "data = Audio(combine_audio(\"../data/HY\", sr = 32000), sr_org = 32000, sr = 32000)\n",
    "\n"
   ]
  },
  {
   "cell_type": "code",
   "execution_count": 8,
   "metadata": {},
   "outputs": [],
   "source": [
    "data = data.preprocess(\"data_prep\", \"trim_long_silences\", \"normalize_volume\")\n",
    "data.save(\"../data/SMK_HY_long.wav\")"
   ]
  },
  {
   "cell_type": "markdown",
   "metadata": {},
   "source": [
    "## CreateYang"
   ]
  },
  {
   "cell_type": "code",
   "execution_count": 9,
   "metadata": {},
   "outputs": [],
   "source": [
    "from autovc.audio.tools import combine_audio\n",
    "from autovc import Audio\n",
    "\n",
    "data = Audio(combine_audio(\"../data/SMK_speakers/HaegueYang_10sek\", sr = 32000), sr_org = 32000, sr = 32000)\n",
    "data = data.preprocess(\"data_prep\", \"trim_long_silences\", \"normalize_volume\")\n",
    "data.save(\"../data/yang_long.wav\")"
   ]
  },
  {
   "cell_type": "markdown",
   "metadata": {},
   "source": [
    "## Learn speakers"
   ]
  },
  {
   "cell_type": "code",
   "execution_count": 1,
   "metadata": {},
   "outputs": [
    {
     "name": "stdout",
     "output_type": "stream",
     "text": [
      "Loaded speaker encoder \"../models/SpeakerEncoder/SpeakerEncoder.pt\" trained to step 1564501\n",
      "Computing speaker embeddings...\n"
     ]
    },
    {
     "name": "stderr",
     "output_type": "stream",
     "text": [
      "100%|██████████| 1/1 [00:09<00:00,  9.00s/it]\n"
     ]
    },
    {
     "name": "stdout",
     "output_type": "stream",
     "text": [
      "Computing speaker embeddings...\n"
     ]
    },
    {
     "name": "stderr",
     "output_type": "stream",
     "text": [
      "100%|██████████| 1/1 [00:14<00:00, 14.68s/it]\n"
     ]
    }
   ],
   "source": [
    "from autovc.utils.model_loader import load_model\n",
    "\n",
    "SE = load_model(\"speaker_encoder\", \"../models/SpeakerEncoder/SpeakerEncoder.pt\")\n",
    "SE.learn_speaker(\"hilde\", \"../data/SMK_HY_long.wav\")\n",
    "SE.learn_speaker(\"HaegueYang\", \"../data/yang_long.wav\")\n"
   ]
  },
  {
   "cell_type": "code",
   "execution_count": 2,
   "metadata": {},
   "outputs": [],
   "source": [
    "SE.save(\"../models/SpeakerEncoder/SpeakerEncoder_SMK.pt\")"
   ]
  },
  {
   "cell_type": "code",
   "execution_count": 14,
   "metadata": {},
   "outputs": [
    {
     "data": {
      "text/plain": [
       "dict_keys(['hilde', 'HaegueYang'])"
      ]
     },
     "execution_count": 14,
     "metadata": {},
     "output_type": "execute_result"
    }
   ],
   "source": [
    "SE.speakers.keys()"
   ]
  },
  {
   "cell_type": "code",
   "execution_count": 1,
   "metadata": {},
   "outputs": [
    {
     "name": "stdout",
     "output_type": "stream",
     "text": [
      "Loaded speaker encoder \"../models/SpeakerEncoder/SpeakerEncoder_SMK.pt\" trained to step 1\n"
     ]
    }
   ],
   "source": [
    "from autovc.utils.model_loader import load_model\n",
    "\n",
    "SE = load_model(\"speaker_encoder\", \"../models/SpeakerEncoder/SpeakerEncoder_SMK.pt\")"
   ]
  },
  {
   "cell_type": "code",
   "execution_count": 7,
   "metadata": {},
   "outputs": [
    {
     "data": {
      "text/plain": [
       "torch.Size([256])"
      ]
     },
     "execution_count": 7,
     "metadata": {},
     "output_type": "execute_result"
    }
   ],
   "source": [
    "SE.speakers[\"hilde\"].squeeze().size()"
   ]
  },
  {
   "cell_type": "code",
   "execution_count": 4,
   "metadata": {},
   "outputs": [],
   "source": [
    "utt = SE.embed_utterance(\"../data/yang_long.wav\")"
   ]
  },
  {
   "cell_type": "code",
   "execution_count": 6,
   "metadata": {},
   "outputs": [
    {
     "data": {
      "text/plain": [
       "torch.Size([256])"
      ]
     },
     "execution_count": 6,
     "metadata": {},
     "output_type": "execute_result"
    }
   ],
   "source": [
    "utt.size()"
   ]
  },
  {
   "cell_type": "code",
   "execution_count": null,
   "metadata": {},
   "outputs": [],
   "source": []
  },
  {
   "cell_type": "code",
   "execution_count": 3,
   "metadata": {},
   "outputs": [
    {
     "data": {
      "text/plain": [
       "tensor([2.6111e-03, 6.3882e-02, 2.0756e-04, 0.0000e+00, 2.9975e-02, 3.7024e-03,\n",
       "        5.8636e-02, 9.8136e-02, 1.4647e-03, 7.6715e-02, 1.7647e-01, 8.8843e-02,\n",
       "        7.1430e-03, 4.2260e-03, 2.4320e-02, 2.1998e-02, 5.9760e-03, 1.3998e-01,\n",
       "        1.2133e-02, 1.8769e-02, 5.3955e-02, 5.8142e-02, 4.8361e-03, 0.0000e+00,\n",
       "        2.4251e-03, 1.3558e-01, 7.5211e-03, 1.9031e-02, 1.6490e-02, 3.6467e-03,\n",
       "        4.6044e-02, 1.0267e-01, 3.8462e-03, 5.5426e-02, 3.6941e-03, 9.3281e-02,\n",
       "        9.0803e-02, 1.0000e-01, 1.2925e-01, 2.0306e-02, 5.0602e-04, 4.1382e-04,\n",
       "        1.0494e-01, 1.1353e-01, 9.9486e-02, 7.8081e-02, 5.3598e-03, 5.1654e-02,\n",
       "        5.7091e-02, 1.9510e-02, 0.0000e+00, 5.4066e-02, 1.0035e-04, 0.0000e+00,\n",
       "        2.9958e-02, 8.6002e-03, 4.2844e-03, 3.3266e-04, 2.1057e-02, 3.1245e-02,\n",
       "        1.0637e-02, 1.3839e-04, 4.9551e-05, 7.6223e-02, 8.4896e-02, 1.3508e-04,\n",
       "        4.5730e-02, 1.7000e-02, 3.9745e-06, 8.1017e-02, 1.3101e-03, 4.8044e-02,\n",
       "        6.6917e-02, 9.3941e-02, 1.6398e-02, 1.0619e-01, 0.0000e+00, 7.7457e-03,\n",
       "        6.1667e-04, 3.0478e-02, 1.7072e-03, 3.0974e-03, 1.4751e-01, 1.0199e-01,\n",
       "        2.8082e-03, 2.6294e-02, 2.0508e-02, 1.6617e-01, 2.1743e-03, 1.6067e-01,\n",
       "        2.1245e-02, 1.1872e-03, 8.3993e-02, 2.7453e-03, 4.6209e-02, 0.0000e+00,\n",
       "        1.9276e-02, 0.0000e+00, 2.2372e-02, 1.8981e-05, 4.3064e-03, 8.3130e-03,\n",
       "        4.1008e-02, 6.8961e-02, 2.3988e-02, 2.1064e-02, 4.1673e-02, 2.7203e-03,\n",
       "        3.7925e-02, 4.9389e-02, 3.8486e-04, 7.2732e-02, 8.5644e-05, 4.4295e-02,\n",
       "        3.1728e-02, 0.0000e+00, 2.2445e-03, 1.8269e-02, 1.2783e-02, 9.2298e-04,\n",
       "        1.0512e-01, 3.9667e-02, 1.0410e-01, 1.6775e-02, 8.9201e-02, 3.4625e-02,\n",
       "        4.2336e-03, 1.7204e-01, 1.3616e-01, 8.2995e-02, 2.3519e-02, 2.1001e-02,\n",
       "        1.1724e-01, 1.2821e-01, 1.6939e-01, 5.8878e-03, 5.3860e-04, 8.9755e-05,\n",
       "        6.6662e-02, 5.3798e-04, 3.1817e-04, 3.4546e-03, 1.2431e-02, 6.5343e-02,\n",
       "        3.7551e-02, 6.0037e-02, 3.1022e-02, 1.8177e-04, 1.0077e-01, 7.9381e-02,\n",
       "        3.9924e-02, 5.7943e-02, 2.3681e-03, 6.4322e-02, 4.7246e-02, 1.1339e-01,\n",
       "        1.0283e-02, 1.9300e-03, 8.4615e-02, 4.6476e-02, 2.1142e-01, 1.6164e-01,\n",
       "        7.7038e-02, 4.5616e-02, 6.3677e-02, 1.3084e-01, 5.2960e-02, 6.7216e-02,\n",
       "        1.1077e-02, 1.4977e-02, 3.1112e-03, 9.2958e-03, 1.1860e-03, 1.4487e-02,\n",
       "        2.5973e-04, 7.1992e-02, 8.0704e-02, 2.3576e-03, 1.3404e-01, 2.5661e-02,\n",
       "        9.9569e-02, 4.6169e-02, 6.4563e-03, 2.5436e-02, 2.7046e-02, 0.0000e+00,\n",
       "        2.0492e-03, 1.0741e-02, 5.8409e-02, 4.4098e-03, 5.6846e-02, 7.4038e-02,\n",
       "        7.2186e-05, 7.5110e-02, 0.0000e+00, 7.1248e-03, 2.0887e-02, 6.8963e-02,\n",
       "        2.7686e-02, 1.6020e-01, 3.0602e-02, 1.1825e-02, 5.7063e-02, 6.4172e-02,\n",
       "        0.0000e+00, 5.0787e-04, 6.1876e-03, 5.7040e-02, 2.5946e-03, 5.6845e-02,\n",
       "        1.9807e-02, 3.5188e-03, 3.6469e-02, 2.0095e-01, 0.0000e+00, 4.9609e-02,\n",
       "        0.0000e+00, 5.8050e-02, 6.1552e-02, 1.0573e-02, 8.5197e-02, 5.8646e-03,\n",
       "        2.8235e-02, 0.0000e+00, 1.6264e-01, 6.1062e-02, 1.1609e-02, 9.8224e-02,\n",
       "        0.0000e+00, 2.3503e-04, 1.2244e-03, 2.4459e-04, 1.2683e-02, 0.0000e+00,\n",
       "        2.5430e-03, 5.7394e-02, 4.8898e-02, 3.8213e-02, 1.1488e-01, 1.2752e-01,\n",
       "        9.6917e-02, 1.4540e-01, 1.0738e-02, 2.7587e-04, 1.6400e-04, 2.1844e-02,\n",
       "        4.5363e-03, 8.0422e-02, 3.2918e-02, 2.4082e-02, 1.3644e-03, 4.9721e-02,\n",
       "        8.6866e-03, 2.9247e-02, 5.0211e-03, 3.2178e-02])"
      ]
     },
     "execution_count": 3,
     "metadata": {},
     "output_type": "execute_result"
    }
   ],
   "source": [
    "SE.speakers.get(\"HaegueYang\")"
   ]
  },
  {
   "cell_type": "code",
   "execution_count": 1,
   "metadata": {},
   "outputs": [
    {
     "name": "stdout",
     "output_type": "stream",
     "text": [
      "Loaded auto encoder \"../models/AutoVC/model_20220119RU35A9.pt\" trained to step 11\n",
      "Loaded speaker encoder \"../models/SpeakerEncoder/SpeakerEncoder_SMK.pt\" trained to step 1\n",
      "Loaded vocoder \"../models/WaveRNN/WaveRNN_Pretrained.pyt\"\n",
      "Beginning conversion...\n"
     ]
    },
    {
     "ename": "RuntimeError",
     "evalue": "The expanded size of the tensor (-1) isn't allowed in a leading, non-existing dimension 0",
     "output_type": "error",
     "traceback": [
      "\u001b[0;31m---------------------------------------------------------------------------\u001b[0m",
      "\u001b[0;31mRuntimeError\u001b[0m                              Traceback (most recent call last)",
      "Input \u001b[0;32mIn [1]\u001b[0m, in \u001b[0;36m<module>\u001b[0;34m\u001b[0m\n\u001b[1;32m      1\u001b[0m \u001b[38;5;28;01mfrom\u001b[39;00m \u001b[38;5;21;01mautovc\u001b[39;00m \u001b[38;5;28;01mimport\u001b[39;00m VoiceConverter\n\u001b[1;32m      2\u001b[0m vc \u001b[38;5;241m=\u001b[39m VoiceConverter(auto_encoder \u001b[38;5;241m=\u001b[39m \u001b[38;5;124m\"\u001b[39m\u001b[38;5;124m../models/AutoVC/model_20220119RU35A9.pt\u001b[39m\u001b[38;5;124m\"\u001b[39m, speaker_encoder \u001b[38;5;241m=\u001b[39m  \u001b[38;5;124m\"\u001b[39m\u001b[38;5;124m../models/SpeakerEncoder/SpeakerEncoder_SMK.pt\u001b[39m\u001b[38;5;124m\"\u001b[39m, vocoder\u001b[38;5;241m=\u001b[39m\u001b[38;5;124m\"\u001b[39m\u001b[38;5;124m../models/WaveRNN/WaveRNN_Pretrained.pyt\u001b[39m\u001b[38;5;124m\"\u001b[39m)\n\u001b[0;32m----> 3\u001b[0m \u001b[43mvc\u001b[49m\u001b[38;5;241;43m.\u001b[39;49m\u001b[43mconvert\u001b[49m\u001b[43m(\u001b[49m\u001b[43msource\u001b[49m\u001b[43m \u001b[49m\u001b[38;5;241;43m=\u001b[39;49m\u001b[43m \u001b[49m\u001b[38;5;124;43m\"\u001b[39;49m\u001b[38;5;124;43m../data/HY/HY1.wav\u001b[39;49m\u001b[38;5;124;43m\"\u001b[39;49m\u001b[43m,\u001b[49m\u001b[43m \u001b[49m\u001b[43mtarget\u001b[49m\u001b[43m \u001b[49m\u001b[38;5;241;43m=\u001b[39;49m\u001b[43m \u001b[49m\u001b[38;5;124;43m\"\u001b[39;49m\u001b[38;5;124;43mHaegueYang\u001b[39;49m\u001b[38;5;124;43m\"\u001b[39;49m\u001b[43m)\u001b[49m\n",
      "File \u001b[0;32m/work1/s183920/AutoVC/autovc/voice_converter.py:138\u001b[0m, in \u001b[0;36mVoiceConverter.convert\u001b[0;34m(self, source, target, sr, out_name, out_dir, pipes, pipe_args)\u001b[0m\n\u001b[1;32m    135\u001b[0m mel_spec \u001b[38;5;241m=\u001b[39m spectrogram\u001b[38;5;241m.\u001b[39mmel_spectrogram(audio_src\u001b[38;5;241m.\u001b[39mwav, \u001b[38;5;124m\"\u001b[39m\u001b[38;5;124mauto_encoder\u001b[39m\u001b[38;5;124m\"\u001b[39m)\u001b[38;5;241m.\u001b[39munsqueeze(\u001b[38;5;241m0\u001b[39m)\n\u001b[1;32m    137\u001b[0m \u001b[38;5;66;03m# Convert\u001b[39;00m\n\u001b[0;32m--> 138\u001b[0m out, post_out, content_codes \u001b[38;5;241m=\u001b[39m \u001b[38;5;28;43mself\u001b[39;49m\u001b[38;5;241;43m.\u001b[39;49m\u001b[43mAE\u001b[49m\u001b[43m(\u001b[49m\u001b[43mmel_spec\u001b[49m\u001b[43m,\u001b[49m\u001b[43m \u001b[49m\u001b[43mc_source\u001b[49m\u001b[43m,\u001b[49m\u001b[43m \u001b[49m\u001b[43mc_target\u001b[49m\u001b[43m)\u001b[49m\n\u001b[1;32m    140\u001b[0m \u001b[38;5;66;03m# Use the Vocoder to generate waveform (use post_out as input)\u001b[39;00m\n\u001b[1;32m    141\u001b[0m waveform \u001b[38;5;241m=\u001b[39m \u001b[38;5;28mself\u001b[39m\u001b[38;5;241m.\u001b[39mvocoder\u001b[38;5;241m.\u001b[39mgenerate(post_out)\n",
      "File \u001b[0;32m/work1/s183920/AutoVC/AutoVC-env/lib/python3.8/site-packages/torch/nn/modules/module.py:1102\u001b[0m, in \u001b[0;36mModule._call_impl\u001b[0;34m(self, *input, **kwargs)\u001b[0m\n\u001b[1;32m   1098\u001b[0m \u001b[38;5;66;03m# If we don't have any hooks, we want to skip the rest of the logic in\u001b[39;00m\n\u001b[1;32m   1099\u001b[0m \u001b[38;5;66;03m# this function, and just call forward.\u001b[39;00m\n\u001b[1;32m   1100\u001b[0m \u001b[38;5;28;01mif\u001b[39;00m \u001b[38;5;129;01mnot\u001b[39;00m (\u001b[38;5;28mself\u001b[39m\u001b[38;5;241m.\u001b[39m_backward_hooks \u001b[38;5;129;01mor\u001b[39;00m \u001b[38;5;28mself\u001b[39m\u001b[38;5;241m.\u001b[39m_forward_hooks \u001b[38;5;129;01mor\u001b[39;00m \u001b[38;5;28mself\u001b[39m\u001b[38;5;241m.\u001b[39m_forward_pre_hooks \u001b[38;5;129;01mor\u001b[39;00m _global_backward_hooks\n\u001b[1;32m   1101\u001b[0m         \u001b[38;5;129;01mor\u001b[39;00m _global_forward_hooks \u001b[38;5;129;01mor\u001b[39;00m _global_forward_pre_hooks):\n\u001b[0;32m-> 1102\u001b[0m     \u001b[38;5;28;01mreturn\u001b[39;00m \u001b[43mforward_call\u001b[49m\u001b[43m(\u001b[49m\u001b[38;5;241;43m*\u001b[39;49m\u001b[38;5;28;43minput\u001b[39;49m\u001b[43m,\u001b[49m\u001b[43m \u001b[49m\u001b[38;5;241;43m*\u001b[39;49m\u001b[38;5;241;43m*\u001b[39;49m\u001b[43mkwargs\u001b[49m\u001b[43m)\u001b[49m\n\u001b[1;32m   1103\u001b[0m \u001b[38;5;66;03m# Do not call functions when jit is used\u001b[39;00m\n\u001b[1;32m   1104\u001b[0m full_backward_hooks, non_full_backward_hooks \u001b[38;5;241m=\u001b[39m [], []\n",
      "File \u001b[0;32m/work1/s183920/AutoVC/autovc/auto_encoder/model_vc.py:96\u001b[0m, in \u001b[0;36mGenerator.forward\u001b[0;34m(self, x, c_org, c_trg)\u001b[0m\n\u001b[1;32m     94\u001b[0m \u001b[38;5;124;03m\"\"\" Concatenates upsampled content codes with target embedding. Dim = (batch_size, 320, input time frames) \"\"\"\u001b[39;00m\n\u001b[1;32m     95\u001b[0m code_exp \u001b[38;5;241m=\u001b[39m torch\u001b[38;5;241m.\u001b[39mcat([codes_forward_upsampled, codes_backward_upsampled], dim\u001b[38;5;241m=\u001b[39m\u001b[38;5;241m1\u001b[39m)\n\u001b[0;32m---> 96\u001b[0m encoder_outputs \u001b[38;5;241m=\u001b[39m torch\u001b[38;5;241m.\u001b[39mcat((code_exp,\u001b[43mc_trg\u001b[49m\u001b[38;5;241;43m.\u001b[39;49m\u001b[43munsqueeze\u001b[49m\u001b[43m(\u001b[49m\u001b[38;5;241;43m-\u001b[39;49m\u001b[38;5;241;43m1\u001b[39;49m\u001b[43m)\u001b[49m\u001b[38;5;241;43m.\u001b[39;49m\u001b[43mexpand\u001b[49m\u001b[43m(\u001b[49m\u001b[38;5;241;43m-\u001b[39;49m\u001b[38;5;241;43m1\u001b[39;49m\u001b[43m,\u001b[49m\u001b[38;5;241;43m-\u001b[39;49m\u001b[38;5;241;43m1\u001b[39;49m\u001b[43m,\u001b[49m\u001b[43mx\u001b[49m\u001b[38;5;241;43m.\u001b[39;49m\u001b[43msize\u001b[49m\u001b[43m(\u001b[49m\u001b[38;5;241;43m-\u001b[39;49m\u001b[38;5;241;43m1\u001b[39;49m\u001b[43m)\u001b[49m\u001b[43m)\u001b[49m), dim\u001b[38;5;241m=\u001b[39m\u001b[38;5;241m1\u001b[39m)\n\u001b[1;32m     98\u001b[0m \u001b[38;5;124;03m\"\"\" Sends concatenate encoder outputs through the decoder \"\"\"\u001b[39;00m\n\u001b[1;32m     99\u001b[0m mel_outputs \u001b[38;5;241m=\u001b[39m \u001b[38;5;28mself\u001b[39m\u001b[38;5;241m.\u001b[39mdecoder(encoder_outputs\u001b[38;5;241m.\u001b[39mtranspose(\u001b[38;5;241m1\u001b[39m,\u001b[38;5;241m2\u001b[39m))\u001b[38;5;241m.\u001b[39mtranspose(\u001b[38;5;241m2\u001b[39m,\u001b[38;5;241m1\u001b[39m)\n",
      "\u001b[0;31mRuntimeError\u001b[0m: The expanded size of the tensor (-1) isn't allowed in a leading, non-existing dimension 0"
     ]
    }
   ],
   "source": [
    "from autovc import VoiceConverter\n",
    "vc = VoiceConverter(auto_encoder = \"../models/AutoVC/model_20220119RU35A9.pt\", speaker_encoder =  \"../models/SpeakerEncoder/SpeakerEncoder_SMK.pt\", vocoder=\"../models/WaveRNN/WaveRNN_Pretrained.pyt\")\n",
    "vc.convert(source = \"../data/HY/HY1.wav\", target = \"HaegueYang\")"
   ]
  },
  {
   "cell_type": "code",
   "execution_count": 6,
   "metadata": {},
   "outputs": [
    {
     "data": {
      "text/plain": [
       "tensor([2.6111e-03, 6.3882e-02, 2.0756e-04, 0.0000e+00, 2.9975e-02, 3.7024e-03,\n",
       "        5.8636e-02, 9.8136e-02, 1.4647e-03, 7.6715e-02, 1.7647e-01, 8.8843e-02,\n",
       "        7.1430e-03, 4.2260e-03, 2.4320e-02, 2.1998e-02, 5.9760e-03, 1.3998e-01,\n",
       "        1.2133e-02, 1.8769e-02, 5.3955e-02, 5.8142e-02, 4.8361e-03, 0.0000e+00,\n",
       "        2.4251e-03, 1.3558e-01, 7.5211e-03, 1.9031e-02, 1.6490e-02, 3.6467e-03,\n",
       "        4.6044e-02, 1.0267e-01, 3.8462e-03, 5.5426e-02, 3.6941e-03, 9.3281e-02,\n",
       "        9.0803e-02, 1.0000e-01, 1.2925e-01, 2.0306e-02, 5.0602e-04, 4.1382e-04,\n",
       "        1.0494e-01, 1.1353e-01, 9.9486e-02, 7.8081e-02, 5.3598e-03, 5.1654e-02,\n",
       "        5.7091e-02, 1.9510e-02, 0.0000e+00, 5.4066e-02, 1.0035e-04, 0.0000e+00,\n",
       "        2.9958e-02, 8.6002e-03, 4.2844e-03, 3.3266e-04, 2.1057e-02, 3.1245e-02,\n",
       "        1.0637e-02, 1.3839e-04, 4.9551e-05, 7.6223e-02, 8.4896e-02, 1.3508e-04,\n",
       "        4.5730e-02, 1.7000e-02, 3.9745e-06, 8.1017e-02, 1.3101e-03, 4.8044e-02,\n",
       "        6.6917e-02, 9.3941e-02, 1.6398e-02, 1.0619e-01, 0.0000e+00, 7.7457e-03,\n",
       "        6.1667e-04, 3.0478e-02, 1.7072e-03, 3.0974e-03, 1.4751e-01, 1.0199e-01,\n",
       "        2.8082e-03, 2.6294e-02, 2.0508e-02, 1.6617e-01, 2.1743e-03, 1.6067e-01,\n",
       "        2.1245e-02, 1.1872e-03, 8.3993e-02, 2.7453e-03, 4.6209e-02, 0.0000e+00,\n",
       "        1.9276e-02, 0.0000e+00, 2.2372e-02, 1.8981e-05, 4.3064e-03, 8.3130e-03,\n",
       "        4.1008e-02, 6.8961e-02, 2.3988e-02, 2.1064e-02, 4.1673e-02, 2.7203e-03,\n",
       "        3.7925e-02, 4.9389e-02, 3.8486e-04, 7.2732e-02, 8.5644e-05, 4.4295e-02,\n",
       "        3.1728e-02, 0.0000e+00, 2.2445e-03, 1.8269e-02, 1.2783e-02, 9.2298e-04,\n",
       "        1.0512e-01, 3.9667e-02, 1.0410e-01, 1.6775e-02, 8.9201e-02, 3.4625e-02,\n",
       "        4.2336e-03, 1.7204e-01, 1.3616e-01, 8.2995e-02, 2.3519e-02, 2.1001e-02,\n",
       "        1.1724e-01, 1.2821e-01, 1.6939e-01, 5.8878e-03, 5.3860e-04, 8.9755e-05,\n",
       "        6.6662e-02, 5.3798e-04, 3.1817e-04, 3.4546e-03, 1.2431e-02, 6.5343e-02,\n",
       "        3.7551e-02, 6.0037e-02, 3.1022e-02, 1.8177e-04, 1.0077e-01, 7.9381e-02,\n",
       "        3.9924e-02, 5.7943e-02, 2.3681e-03, 6.4322e-02, 4.7246e-02, 1.1339e-01,\n",
       "        1.0283e-02, 1.9300e-03, 8.4615e-02, 4.6476e-02, 2.1142e-01, 1.6164e-01,\n",
       "        7.7038e-02, 4.5616e-02, 6.3677e-02, 1.3084e-01, 5.2960e-02, 6.7216e-02,\n",
       "        1.1077e-02, 1.4977e-02, 3.1112e-03, 9.2958e-03, 1.1860e-03, 1.4487e-02,\n",
       "        2.5973e-04, 7.1992e-02, 8.0704e-02, 2.3576e-03, 1.3404e-01, 2.5661e-02,\n",
       "        9.9569e-02, 4.6169e-02, 6.4563e-03, 2.5436e-02, 2.7046e-02, 0.0000e+00,\n",
       "        2.0492e-03, 1.0741e-02, 5.8409e-02, 4.4098e-03, 5.6846e-02, 7.4038e-02,\n",
       "        7.2186e-05, 7.5110e-02, 0.0000e+00, 7.1248e-03, 2.0887e-02, 6.8963e-02,\n",
       "        2.7686e-02, 1.6020e-01, 3.0602e-02, 1.1825e-02, 5.7063e-02, 6.4172e-02,\n",
       "        0.0000e+00, 5.0787e-04, 6.1876e-03, 5.7040e-02, 2.5946e-03, 5.6845e-02,\n",
       "        1.9807e-02, 3.5188e-03, 3.6469e-02, 2.0095e-01, 0.0000e+00, 4.9609e-02,\n",
       "        0.0000e+00, 5.8050e-02, 6.1552e-02, 1.0573e-02, 8.5197e-02, 5.8646e-03,\n",
       "        2.8235e-02, 0.0000e+00, 1.6264e-01, 6.1062e-02, 1.1609e-02, 9.8224e-02,\n",
       "        0.0000e+00, 2.3503e-04, 1.2244e-03, 2.4459e-04, 1.2683e-02, 0.0000e+00,\n",
       "        2.5430e-03, 5.7394e-02, 4.8898e-02, 3.8213e-02, 1.1488e-01, 1.2752e-01,\n",
       "        9.6917e-02, 1.4540e-01, 1.0738e-02, 2.7587e-04, 1.6400e-04, 2.1844e-02,\n",
       "        4.5363e-03, 8.0422e-02, 3.2918e-02, 2.4082e-02, 1.3644e-03, 4.9721e-02,\n",
       "        8.6866e-03, 2.9247e-02, 5.0211e-03, 3.2178e-02])"
      ]
     },
     "execution_count": 6,
     "metadata": {},
     "output_type": "execute_result"
    }
   ],
   "source": [
    "vc.SE.speakers.get(\"HaegueYang\")"
   ]
  }
 ],
 "metadata": {
  "interpreter": {
   "hash": "a563c1982586c3b2280cedb49ebfea2a4e26b727335a2d71aff7b9cf8d932286"
  },
  "kernelspec": {
   "display_name": "Python 3.8.9 64-bit ('AutoVC-env': venv)",
   "language": "python",
   "name": "python3"
  },
  "language_info": {
   "codemirror_mode": {
    "name": "ipython",
    "version": 3
   },
   "file_extension": ".py",
   "mimetype": "text/x-python",
   "name": "python",
   "nbconvert_exporter": "python",
   "pygments_lexer": "ipython3",
   "version": "3.8.9"
  },
  "orig_nbformat": 4
 },
 "nbformat": 4,
 "nbformat_minor": 2
}
