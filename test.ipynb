{
 "cells": [
  {
   "cell_type": "code",
   "execution_count": null,
   "source": [
    "from conversion import embed\r\n",
    "\r\n"
   ],
   "outputs": [],
   "metadata": {}
  }
 ],
 "metadata": {
  "orig_nbformat": 4,
  "language_info": {
   "name": "python",
   "version": "3.8.10",
   "mimetype": "text/x-python",
   "codemirror_mode": {
    "name": "ipython",
    "version": 3
   },
   "pygments_lexer": "ipython3",
   "nbconvert_exporter": "python",
   "file_extension": ".py"
  },
  "kernelspec": {
   "name": "python3",
   "display_name": "Python 3.8.10 64-bit (system)"
  },
  "interpreter": {
   "hash": "3f6e6c61e4a695d31679aeb4dcd91a772e27c61465b89397d61b7f8079bf8b50"
  }
 },
 "nbformat": 4,
 "nbformat_minor": 2
}