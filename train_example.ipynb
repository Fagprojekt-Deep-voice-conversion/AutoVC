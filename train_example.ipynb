{
 "cells": [
  {
   "cell_type": "code",
   "execution_count": 1,
   "source": [
    "from autovc.utils.dataloader import TrainDataLoader\r\n",
    "from autovc.auto_encoder.model_vc import Generator\r\n",
    "from autovc.speaker_encoder.model import SpeakerEncoder\r\n",
    "\r\n",
    "model = Generator()\r\n",
    "model.load_model('Models/AutoVC/AutoVC_SMK.pt', device = 'cpu')\r\n",
    "\r\n",
    "speaker_encoder = SpeakerEncoder()\r\n",
    "speaker_encoder.load_model('Models/SpeakerEncoder/SpeakerEncoder.pt')\r\n",
    "\r\n",
    "dataset = TrainDataLoader(data_dir_path = 'data', speaker_encoder = speaker_encoder)\r\n",
    "dataloader = dataset.data_loader(batch_size = 2, shuffle = True)\r\n",
    "\r\n",
    "model.learn(dataloader, n_epochs = 2)\r\n"
   ],
   "outputs": [
    {
     "output_type": "stream",
     "name": "stdout",
     "text": [
      "Training beginning on cpu\n",
      "Step: 1\n"
     ]
    }
   ],
   "metadata": {}
  }
 ],
 "metadata": {
  "orig_nbformat": 4,
  "language_info": {
   "name": "python",
   "version": "3.8.10",
   "mimetype": "text/x-python",
   "codemirror_mode": {
    "name": "ipython",
    "version": 3
   },
   "pygments_lexer": "ipython3",
   "nbconvert_exporter": "python",
   "file_extension": ".py"
  },
  "kernelspec": {
   "name": "python3",
   "display_name": "Python 3.8.10 64-bit ('AutoVC_env': venv)"
  },
  "interpreter": {
   "hash": "54e0da04e6ae9c20ca2f4c1b875d1df5d1285f4ba0e46b27cfcdd998c27a32e0"
  }
 },
 "nbformat": 4,
 "nbformat_minor": 2
}